{
  "nbformat": 4,
  "nbformat_minor": 0,
  "metadata": {
    "colab": {
      "provenance": [],
      "authorship_tag": "ABX9TyNawUthARsNm1WzwhIpPB4e",
      "include_colab_link": true
    },
    "kernelspec": {
      "name": "python3",
      "display_name": "Python 3"
    },
    "language_info": {
      "name": "python"
    }
  },
  "cells": [
    {
      "cell_type": "markdown",
      "metadata": {
        "id": "view-in-github",
        "colab_type": "text"
      },
      "source": [
        "<a href=\"https://colab.research.google.com/github/2303A52430/Generative-AI-2025-2303a52430/blob/main/2430_gen_ai_ass_1.ipynb\" target=\"_parent\"><img src=\"https://colab.research.google.com/assets/colab-badge.svg\" alt=\"Open In Colab\"/></a>"
      ]
    },
    {
      "cell_type": "code",
      "execution_count": 1,
      "metadata": {
        "id": "wj2ah1IEWNu0"
      },
      "outputs": [],
      "source": [
        "import numpy as np\n",
        "from sklearn.metrics import mean_absolute_error, mean_squared_error"
      ]
    },
    {
      "cell_type": "code",
      "source": [
        "# Data\n",
        "y_actual = np.array([20, 30, 40, 50, 60])\n",
        "y_pred = np.array([20.5, 30.3, 40.2, 50.6, 60.7])\n"
      ],
      "metadata": {
        "id": "i_wK40SSWSig"
      },
      "execution_count": 2,
      "outputs": []
    },
    {
      "cell_type": "code",
      "source": [
        "# From scratch calculations\n",
        "n = len(y_actual)\n",
        "absolute_errors = np.abs(y_actual - y_pred)\n",
        "squared_errors = (y_actual - y_pred) ** 2\n"
      ],
      "metadata": {
        "id": "9KOlgsZOWVvu"
      },
      "execution_count": 3,
      "outputs": []
    },
    {
      "cell_type": "code",
      "source": [
        "# Mean Absolute Error (MAE)\n",
        "mae = np.sum(absolute_errors) / n\n"
      ],
      "metadata": {
        "id": "cVoxy7irWZSH"
      },
      "execution_count": 4,
      "outputs": []
    },
    {
      "cell_type": "code",
      "source": [
        "# Mean Squared Error (MSE)\n",
        "mse = np.sum(squared_errors) / n\n"
      ],
      "metadata": {
        "id": "9WNH0FNPWcjV"
      },
      "execution_count": 5,
      "outputs": []
    },
    {
      "cell_type": "code",
      "source": [
        "\n",
        "# Root Mean Squared Error (RMSE)\n",
        "rmse = np.sqrt(mse)\n"
      ],
      "metadata": {
        "id": "BPsBStv9Wfj1"
      },
      "execution_count": 6,
      "outputs": []
    },
    {
      "cell_type": "code",
      "source": [
        "# Display results from scratch\n",
        "print(\"From Scratch:\")\n",
        "print(f\"Mean Absolute Error (MAE): {mae}\")\n",
        "print(f\"Mean Squared Error (MSE): {mse}\")\n",
        "print(f\"Root Mean Squared Error (RMSE): {rmse}\")\n"
      ],
      "metadata": {
        "colab": {
          "base_uri": "https://localhost:8080/"
        },
        "id": "Is3ucpK1Wjmd",
        "outputId": "8de50698-60d1-4d6b-9030-bbd191448961"
      },
      "execution_count": 7,
      "outputs": [
        {
          "output_type": "stream",
          "name": "stdout",
          "text": [
            "From Scratch:\n",
            "Mean Absolute Error (MAE): 0.4600000000000016\n",
            "Mean Squared Error (MSE): 0.24600000000000147\n",
            "Root Mean Squared Error (RMSE): 0.49598387070549127\n"
          ]
        }
      ]
    },
    {
      "cell_type": "code",
      "source": [
        "# Using libraries\n",
        "mae_lib = mean_absolute_error(y_actual, y_pred)\n",
        "mse_lib = mean_squared_error(y_actual, y_pred)\n",
        "rmse_lib = np.sqrt(mse_lib)\n",
        "\n"
      ],
      "metadata": {
        "id": "8UyzoHC9WnRI"
      },
      "execution_count": 8,
      "outputs": []
    },
    {
      "cell_type": "code",
      "source": [
        "# Display results using libraries\n",
        "print(\"\\nUsing Libraries:\")\n",
        "print(f\"Mean Absolute Error (MAE): {mae_lib}\")\n",
        "print(f\"Mean Squared Error (MSE): {mse_lib}\")\n",
        "print(f\"Root Mean Squared Error (RMSE): {rmse_lib}\")"
      ],
      "metadata": {
        "colab": {
          "base_uri": "https://localhost:8080/"
        },
        "id": "zSB9WOFwWqXU",
        "outputId": "1da467b3-178e-45bb-dbd5-17edec4dd52c"
      },
      "execution_count": 9,
      "outputs": [
        {
          "output_type": "stream",
          "name": "stdout",
          "text": [
            "\n",
            "Using Libraries:\n",
            "Mean Absolute Error (MAE): 0.4600000000000016\n",
            "Mean Squared Error (MSE): 0.24600000000000147\n",
            "Root Mean Squared Error (RMSE): 0.49598387070549127\n"
          ]
        }
      ]
    }
  ]
}